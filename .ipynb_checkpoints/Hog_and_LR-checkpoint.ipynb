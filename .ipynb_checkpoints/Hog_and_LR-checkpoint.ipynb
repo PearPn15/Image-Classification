{
 "cells": [
  {
   "cell_type": "code",
   "execution_count": 6,
   "id": "6533b09d-c2c5-46b9-ad3b-17ea8bfd32ff",
   "metadata": {},
   "outputs": [],
   "source": [
    "%matplotlib inline\n",
    "import numpy as np\n",
    "from skimage.io import imread\n",
    "from skimage.color import gray2rgb\n",
    "from skimage.transform import resize\n",
    "from skimage.feature import hog\n",
    "from sklearn.linear_model import LogisticRegression\n",
    "from sklearn.model_selection import train_test_split\n",
    "from sklearn.metrics import classification_report, accuracy_score\n",
    "from glob import glob\n",
    "from matplotlib import pyplot as plt"
   ]
  },
  {
   "cell_type": "code",
   "execution_count": 7,
   "id": "78e68a9f-f5b9-4d95-9745-7a7ccd274321",
   "metadata": {},
   "outputs": [],
   "source": [
    "images, hog_images = [], []\n",
    "X, y = [], []\n",
    "ppc = 16\n",
    "sz = 200\n",
    "for dir in glob('images/Caltech101_images/*'):\n",
    "    image_files = glob(dir + '/*.jpg')\n",
    "    label = dir.split('\\\\')[-1]\n",
    "    print(label, len(image_files))\n",
    "    for image_file in image_files:\n",
    "        image = resize(imread(image_file), (sz,sz))\n",
    "        if len(image.shape) == 2: # if a gray-scale image\n",
    "            image = gray2rgb(image)\n",
    "        fd,hog_image = hog(image, orientations=8, pixels_per_cell=(ppc,ppc),cells_per_block=(4, 4),block_norm= 'L2',visualize=True, multichannel=True)\n",
    "        images.append(image)\n",
    "        hog_images.append(hog_image)\n",
    "        X.append(fd)\n",
    "        y.append(label)"
   ]
  },
  {
   "cell_type": "code",
   "execution_count": 5,
   "id": "5a6c1c1c-d65b-434d-9dd5-6d81a821ac97",
   "metadata": {},
   "outputs": [
    {
     "ename": "IndexError",
     "evalue": "list index out of range",
     "output_type": "error",
     "traceback": [
      "\u001b[1;31m---------------------------------------------------------------------------\u001b[0m",
      "\u001b[1;31mIndexError\u001b[0m                                Traceback (most recent call last)",
      "Cell \u001b[1;32mIn[5], line 1\u001b[0m\n\u001b[1;32m----> 1\u001b[0m \u001b[38;5;28mprint\u001b[39m(\u001b[38;5;28mlen\u001b[39m(images), \u001b[43mhog_images\u001b[49m\u001b[43m[\u001b[49m\u001b[38;5;241;43m0\u001b[39;49m\u001b[43m]\u001b[49m\u001b[38;5;241m.\u001b[39mshape, X[\u001b[38;5;241m0\u001b[39m]\u001b[38;5;241m.\u001b[39mshape, X[\u001b[38;5;241m1\u001b[39m]\u001b[38;5;241m.\u001b[39mshape, \u001b[38;5;28mlen\u001b[39m(y))\n",
      "\u001b[1;31mIndexError\u001b[0m: list index out of range"
     ]
    }
   ],
   "source": [
    "print(len(images), hog_images[0].shape, X[0].shape, X[1].shape, len(y))"
   ]
  },
  {
   "cell_type": "code",
   "execution_count": null,
   "id": "14dae45a-3372-4917-a54d-b4cb011c263f",
   "metadata": {},
   "outputs": [],
   "source": []
  }
 ],
 "metadata": {
  "kernelspec": {
   "display_name": "Python 3 (ipykernel)",
   "language": "python",
   "name": "python3"
  },
  "language_info": {
   "codemirror_mode": {
    "name": "ipython",
    "version": 3
   },
   "file_extension": ".py",
   "mimetype": "text/x-python",
   "name": "python",
   "nbconvert_exporter": "python",
   "pygments_lexer": "ipython3",
   "version": "3.12.4"
  }
 },
 "nbformat": 4,
 "nbformat_minor": 5
}
